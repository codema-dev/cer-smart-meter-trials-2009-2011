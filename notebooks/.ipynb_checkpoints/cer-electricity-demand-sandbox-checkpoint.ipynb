{
 "cells": [
  {
   "cell_type": "markdown",
   "metadata": {},
   "source": [
    "# Transform CER Smart Meter Project Electricity demands\n",
    "\n",
    "```\n",
    "From:\n",
    "\n",
    "1392  19503   0.14\n",
    "\n",
    "To:\n",
    "\n",
    "id      datetime                demand\n",
    "1392    2009-07-15 01:30:00     0.14\n",
    "```"
   ]
  },
  {
   "cell_type": "code",
   "execution_count": 4,
   "metadata": {},
   "outputs": [],
   "source": [
    "from ireland_smartmeterdata.cer.electricity import demand\n",
    "from ireland_smartmeterdata.cer.electricity import allocations"
   ]
  },
  {
   "cell_type": "code",
   "execution_count": null,
   "metadata": {},
   "outputs": [],
   "source": [
    "cer_smart_metering_projects_dirpath = \"<ENTER PATH TO UNZIPPED CER Smart Metering Project>\""
   ]
  },
  {
   "cell_type": "code",
   "execution_count": null,
   "metadata": {},
   "outputs": [],
   "source": [
    "demand_dirpath = \"<ENTER PATH TO SAVE LOCATION FOR ELEC DEMANDS>\""
   ]
  },
  {
   "cell_type": "code",
   "execution_count": null,
   "metadata": {},
   "outputs": [],
   "source": [
    "allocations_filepath = \"<ENTER PATH TO SAVE LOCATION FOR ELEC BUILDING ID ALLOCATIONS>\""
   ]
  },
  {
   "cell_type": "code",
   "execution_count": 9,
   "metadata": {
    "scrolled": true
   },
   "outputs": [
    {
     "name": "stdout",
     "output_type": "stream",
     "text": [
      "[2020-12-04 10:08:28+0000] INFO - prefect.FlowRunner | Beginning Flow run for 'Clean Electricity Data'\n",
      "[2020-12-04 10:08:28+0000] INFO - prefect.TaskRunner | Task 'output_dirpath': Starting task run...\n",
      "[2020-12-04 10:08:28+0000] INFO - prefect.TaskRunner | Task 'output_dirpath': Finished task run for task with final state: 'Success'\n",
      "[2020-12-04 10:08:28+0000] INFO - prefect.TaskRunner | Task 'input_dirpath': Starting task run...\n",
      "[2020-12-04 10:08:28+0000] INFO - prefect.TaskRunner | Task 'input_dirpath': Finished task run for task with final state: 'Success'\n",
      "[2020-12-04 10:08:28+0000] INFO - prefect.TaskRunner | Task 'n_workers': Starting task run...\n",
      "[2020-12-04 10:08:28+0000] INFO - prefect.TaskRunner | Task 'n_workers': Finished task run for task with final state: 'Success'\n",
      "[2020-12-04 10:08:28+0000] INFO - prefect.TaskRunner | Task 'check_file_exists': Starting task run...\n",
      "[2020-12-04 10:08:28+0000] INFO - prefect.TaskRunner | Task 'check_file_exists': Finished task run for task with final state: 'Success'\n",
      "[2020-12-04 10:08:28+0000] INFO - prefect.TaskRunner | Task 'case(False)': Starting task run...\n",
      "[2020-12-04 10:08:28+0000] INFO - prefect.TaskRunner | SKIP signal raised: SKIP('Provided value \"True\" did not match \"False\"')\n",
      "[2020-12-04 10:08:28+0000] INFO - prefect.TaskRunner | Task 'case(False)': Finished task run for task with final state: 'Skipped'\n",
      "[2020-12-04 10:08:28+0000] INFO - prefect.TaskRunner | Task 'DaskCluster': Starting task run...\n",
      "[2020-12-04 10:08:28+0000] INFO - prefect.TaskRunner | Task 'DaskCluster': Finished task run for task with final state: 'Skipped'\n",
      "[2020-12-04 10:08:28+0000] INFO - prefect.TaskRunner | Task 'get_path_to_raw_txt_files': Starting task run...\n",
      "[2020-12-04 10:08:28+0000] INFO - prefect.TaskRunner | Task 'get_path_to_raw_txt_files': Finished task run for task with final state: 'Skipped'\n",
      "[2020-12-04 10:08:28+0000] INFO - prefect.TaskRunner | Task 'DaskCluster.setup': Starting task run...\n",
      "[2020-12-04 10:08:28+0000] INFO - prefect.TaskRunner | Task 'DaskCluster.setup': Finished task run for task with final state: 'Skipped'\n",
      "[2020-12-04 10:08:28+0000] INFO - prefect.TaskRunner | Task 'read_raw_txt_files': Starting task run...\n",
      "[2020-12-04 10:08:28+0000] INFO - prefect.TaskRunner | Task 'read_raw_txt_files': Finished task run for task with final state: 'Skipped'\n",
      "[2020-12-04 10:08:28+0000] INFO - prefect.TaskRunner | Task 'slice_timeid_column': Starting task run...\n",
      "[2020-12-04 10:08:29+0000] INFO - prefect.TaskRunner | Task 'slice_timeid_column': Finished task run for task with final state: 'Skipped'\n",
      "[2020-12-04 10:08:29+0000] INFO - prefect.TaskRunner | Task 'convert_dayid_to_datetime': Starting task run...\n",
      "[2020-12-04 10:08:29+0000] INFO - prefect.TaskRunner | Task 'convert_dayid_to_datetime': Finished task run for task with final state: 'Skipped'\n",
      "[2020-12-04 10:08:29+0000] INFO - prefect.TaskRunner | Task 'write_parquet': Starting task run...\n",
      "[2020-12-04 10:08:29+0000] INFO - prefect.TaskRunner | Task 'write_parquet': Finished task run for task with final state: 'Skipped'\n",
      "[2020-12-04 10:08:29+0000] INFO - prefect.TaskRunner | Task 'DaskCluster.cleanup': Starting task run...\n",
      "[2020-12-04 10:08:29+0000] INFO - prefect.TaskRunner | Task 'DaskCluster.cleanup': Finished task run for task with final state: 'Skipped'\n",
      "[2020-12-04 10:08:29+0000] INFO - prefect.FlowRunner | Flow run SUCCESS: all reference tasks succeeded\n"
     ]
    },
    {
     "data": {
      "text/plain": [
       "<Success: \"All reference tasks succeeded.\">"
      ]
     },
     "execution_count": 9,
     "metadata": {},
     "output_type": "execute_result"
    }
   ],
   "source": [
    "demand.flow.run(\n",
    "    input_dirpath=cer_smart_metering_projects_dirpath,\n",
    "    output_dirpath=demand_dirpath,\n",
    "    n_workers=1,\n",
    ")"
   ]
  },
  {
   "cell_type": "code",
   "execution_count": 7,
   "metadata": {
    "scrolled": true
   },
   "outputs": [
    {
     "name": "stdout",
     "output_type": "stream",
     "text": [
      "[2020-12-04 10:05:49+0000] INFO - prefect.FlowRunner | Beginning Flow run for 'Map Allocations to Building IDs'\n",
      "[2020-12-04 10:05:49+0000] INFO - prefect.TaskRunner | Task 'input_dirpath': Starting task run...\n",
      "[2020-12-04 10:05:49+0000] INFO - prefect.TaskRunner | Task 'input_dirpath': Finished task run for task with final state: 'Success'\n",
      "[2020-12-04 10:05:49+0000] INFO - prefect.TaskRunner | Task 'output_filepath': Starting task run...\n",
      "[2020-12-04 10:05:49+0000] INFO - prefect.TaskRunner | Task 'output_filepath': Finished task run for task with final state: 'Success'\n",
      "[2020-12-04 10:05:49+0000] INFO - prefect.TaskRunner | Task 'check_file_exists': Starting task run...\n",
      "[2020-12-04 10:05:49+0000] INFO - prefect.TaskRunner | Task 'check_file_exists': Finished task run for task with final state: 'Success'\n",
      "[2020-12-04 10:05:49+0000] INFO - prefect.TaskRunner | Task 'case(False)': Starting task run...\n",
      "[2020-12-04 10:05:49+0000] INFO - prefect.TaskRunner | SKIP signal raised: SKIP('Provided value \"True\" did not match \"False\"')\n",
      "[2020-12-04 10:05:49+0000] INFO - prefect.TaskRunner | Task 'case(False)': Finished task run for task with final state: 'Skipped'\n",
      "[2020-12-04 10:05:50+0000] INFO - prefect.TaskRunner | Task 'get_path_to_allocations': Starting task run...\n",
      "[2020-12-04 10:05:50+0000] INFO - prefect.TaskRunner | Task 'get_path_to_allocations': Finished task run for task with final state: 'Skipped'\n",
      "[2020-12-04 10:05:50+0000] INFO - prefect.TaskRunner | Task 'read_allocations': Starting task run...\n",
      "[2020-12-04 10:05:50+0000] INFO - prefect.TaskRunner | Task 'read_allocations': Finished task run for task with final state: 'Skipped'\n",
      "[2020-12-04 10:05:50+0000] INFO - prefect.TaskRunner | Task 'read_allocation_mappings': Starting task run...\n",
      "[2020-12-04 10:05:50+0000] INFO - prefect.TaskRunner | Task 'read_allocation_mappings': Finished task run for task with final state: 'Skipped'\n",
      "[2020-12-04 10:05:50+0000] INFO - prefect.TaskRunner | Task 'decode_columns': Starting task run...\n",
      "[2020-12-04 10:05:50+0000] INFO - prefect.TaskRunner | Task 'decode_columns': Finished task run for task with final state: 'Skipped'\n",
      "[2020-12-04 10:05:50+0000] INFO - prefect.TaskRunner | Task 'write_to_parquet': Starting task run...\n",
      "[2020-12-04 10:05:50+0000] INFO - prefect.TaskRunner | Task 'write_to_parquet': Finished task run for task with final state: 'Skipped'\n",
      "[2020-12-04 10:05:50+0000] INFO - prefect.FlowRunner | Flow run SUCCESS: all reference tasks succeeded\n"
     ]
    },
    {
     "data": {
      "text/plain": [
       "<Success: \"All reference tasks succeeded.\">"
      ]
     },
     "execution_count": 7,
     "metadata": {},
     "output_type": "execute_result"
    }
   ],
   "source": [
    "allocations.flow.run(\n",
    "    input_dirpath=cer_smart_metering_projects_dirpath,\n",
    "    output_filepath=allocations_filepath,\n",
    ")"
   ]
  },
  {
   "cell_type": "markdown",
   "metadata": {},
   "source": [
    "# CER Electricity Demand Sandbox\n",
    "\n",
    "... can now query the CER Electricity Demand data (via `dask.dataframe`) and allocations (via `pandas`) in this Notebook sandbox"
   ]
  },
  {
   "cell_type": "code",
   "execution_count": 10,
   "metadata": {},
   "outputs": [],
   "source": [
    "import dask.dataframe as dd\n",
    "import pandas as pd"
   ]
  },
  {
   "cell_type": "code",
   "execution_count": null,
   "metadata": {},
   "outputs": [],
   "source": [
    "demands = dd.read_parquet(demand_dirpath)"
   ]
  },
  {
   "cell_type": "code",
   "execution_count": null,
   "metadata": {},
   "outputs": [],
   "source": [
    "alloactions = pd.read_parquet(allocations_filepath)"
   ]
  }
 ],
 "metadata": {
  "kernelspec": {
   "display_name": "Python 3",
   "language": "python",
   "name": "python3"
  },
  "language_info": {
   "codemirror_mode": {
    "name": "ipython",
    "version": 3
   },
   "file_extension": ".py",
   "mimetype": "text/x-python",
   "name": "python",
   "nbconvert_exporter": "python",
   "pygments_lexer": "ipython3",
   "version": "3.7.8"
  }
 },
 "nbformat": 4,
 "nbformat_minor": 4
}
