{
 "cells": [
  {
   "cell_type": "markdown",
   "metadata": {},
   "source": [
    "# Transform CER Smart Meter Project Electricity demands\n",
    "\n",
    "```\n",
    "From:\n",
    "\n",
    "1392  19503   0.14\n",
    "\n",
    "To:\n",
    "\n",
    "id      datetime                demand\n",
    "1392    2009-07-15 01:30:00     0.14\n",
    "```"
   ]
  },
  {
   "cell_type": "code",
   "execution_count": null,
   "metadata": {},
   "outputs": [],
   "source": [
    "from ireland_smartmeterdata.cer.electricity import demand\n",
    "from ireland_smartmeterdata.cer.electricity import allocations\n",
    "from ireland_smartmeterdata.cer.electricity import survey"
   ]
  },
  {
   "cell_type": "code",
   "execution_count": 1,
   "metadata": {},
   "outputs": [],
   "source": [
    "cer_smart_metering_projects_dirpath = \"<ENTER PATH TO UNZIPPED CER Smart Metering Project>\""
   ]
  },
  {
   "source": [
    "To save any of following files to your Google drive replace filename with a Google Drive filepath\n",
    "\n",
    "i.e. \"electricity_demands\" with \"content/drive/MyDrive/data/electricity_demands\" "
   ],
   "cell_type": "markdown",
   "metadata": {}
  },
  {
   "cell_type": "code",
   "execution_count": null,
   "metadata": {},
   "outputs": [],
   "source": [
    "demand_dirpath = \"electricity_demands\"\n",
    "allocations_filepath = \"electricity_allocations.parquet\"\n",
    "residential_survey_filepath = \"residential_survey.parquet\"\n",
    "sme_survey_filepath = \"sme_survey.parquet\""
   ]
  },
  {
   "cell_type": "markdown",
   "metadata": {},
   "source": [
    "Check data directories exist before using these paths to clean the data "
   ]
  },
  {
   "cell_type": "code",
   "execution_count": null,
   "metadata": {},
   "outputs": [],
   "source": [
    "from pathlib import Path\n",
    "Path(cer_smart_metering_projects_dirpath).exists()"
   ]
  },
  {
   "cell_type": "code",
   "execution_count": null,
   "metadata": {},
   "outputs": [],
   "source": [
    "demand.flow.run(\n",
    "    input_dirpath=cer_smart_metering_projects_dirpath,\n",
    "    output_dirpath=demand_dirpath,\n",
    "    n_workers=1,\n",
    ")"
   ]
  },
  {
   "cell_type": "code",
   "execution_count": null,
   "metadata": {},
   "outputs": [],
   "source": [
    "allocations.flow.run(\n",
    "    input_dirpath=cer_smart_metering_projects_dirpath,\n",
    "    output_filepath=allocations_filepath,\n",
    ")"
   ]
  },
  {
   "cell_type": "code",
   "execution_count": null,
   "metadata": {},
   "outputs": [],
   "source": [
    "survey.flow.run(\n",
    "    input_dirpath=cer_smart_metering_projects_dirpath,\n",
    "    output_filepath=residential_survey_filepath,\n",
    "    building_type=\"residential\",\n",
    ")"
   ]
  },
  {
   "cell_type": "code",
   "execution_count": null,
   "metadata": {},
   "outputs": [],
   "source": [
    "survey.flow.run(\n",
    "    input_dirpath=cer_smart_metering_projects_dirpath,\n",
    "    output_filepath=sme_survey_filepath,\n",
    "    building_type=\"sme\",\n",
    ")"
   ]
  },
  {
   "cell_type": "markdown",
   "metadata": {},
   "source": [
    "# CER Electricity Demand Sandbox\n",
    "\n",
    "... can now query the CER Electricity Demand data (via `dask.dataframe`) and allocations (via `pandas`) in this Notebook sandbox"
   ]
  },
  {
   "cell_type": "code",
   "execution_count": null,
   "metadata": {},
   "outputs": [],
   "source": [
    "import dask.dataframe as dd\n",
    "import pandas as pd"
   ]
  },
  {
   "cell_type": "code",
   "execution_count": null,
   "metadata": {},
   "outputs": [],
   "source": [
    "demand_ddf = dd.read_parquet(demand_dirpath)"
   ]
  },
  {
   "cell_type": "code",
   "execution_count": null,
   "metadata": {},
   "outputs": [],
   "source": [
    "allocations_df = pd.read_parquet(allocations_filepath)"
   ]
  },
  {
   "cell_type": "code",
   "execution_count": null,
   "metadata": {},
   "outputs": [],
   "source": [
    "residential_survey_df = pd.read_parquet(residential_survey_filepath)"
   ]
  },
  {
   "cell_type": "code",
   "execution_count": null,
   "metadata": {},
   "outputs": [],
   "source": [
    "sme_survey_df = pd.read_parquet(sme_survey_filepath)"
   ]
  }
 ],
 "metadata": {
  "kernelspec": {
   "display_name": "Python 3",
   "language": "python",
   "name": "python3"
  },
  "language_info": {
   "codemirror_mode": {
    "name": "ipython",
    "version": 3
   },
   "file_extension": ".py",
   "mimetype": "text/x-python",
   "name": "python",
   "nbconvert_exporter": "python",
   "pygments_lexer": "ipython3",
   "version": "3.9.0-final"
  }
 },
 "nbformat": 4,
 "nbformat_minor": 4
}