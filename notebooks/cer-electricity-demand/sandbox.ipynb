{
 "cells": [
  {
   "cell_type": "code",
   "execution_count": null,
   "metadata": {},
   "outputs": [],
   "source": [
    "!pip install git+https://github.com/codema-dev/ireland_smartmeterdata"
   ]
  },
  {
   "cell_type": "markdown",
   "metadata": {},
   "source": [
    "# Transform CER Smart Meter Project Electricity data\n",
    "\n",
    "Demands\n",
    "\n",
    "```\n",
    "From:\n",
    "\n",
    "1392  19503   0.14\n",
    "\n",
    "To:\n",
    "\n",
    "id  datetime                demand\n",
    "1   2009-07-15 01:30:00     0.14\n",
    "```\n",
    "\n",
    "Allocations\n",
    "```\n",
    "From:\n",
    "\n",
    "ID  Code        ...\n",
    "1   1           ...\n",
    "\n",
    "To:\n",
    "\n",
    "ID  Code        ...\n",
    "1   Residential ...\n",
    "```\n",
    "\n",
    "Surveys\n",
    "```\n",
    "From:\n",
    "\n",
    "ID  ...     Which best describes your home?\n",
    "1   ...     2\n",
    "\n",
    "To:\n",
    "\n",
    "ID  ...     Which best describes your home?\n",
    "1   ...     Semi-detached house\n",
    "```\n",
    "\n"
   ]
  },
  {
   "cell_type": "code",
   "execution_count": null,
   "metadata": {},
   "outputs": [],
   "source": [
    "from pathlib import Path\n",
    "\n",
    "from ireland_smartmeterdata.cer.electricity import demand\n",
    "from ireland_smartmeterdata.cer.electricity import allocations\n",
    "from ireland_smartmeterdata.cer.electricity import survey"
   ]
  },
  {
   "cell_type": "code",
   "execution_count": null,
   "metadata": {},
   "outputs": [],
   "source": [
    "zcer_smart_metering_projects_dirpath = \"<ENTER PATH TO UNZIPPED CER Smart Metering Project>\""
   ]
  },
  {
   "cell_type": "code",
   "execution_count": null,
   "metadata": {},
   "outputs": [],
   "source": [
    "Path(cer_smart_metering_projects_dirpath).exists() # Check this directory exists"
   ]
  },
  {
   "cell_type": "markdown",
   "metadata": {},
   "source": [
    "To save any of the following files to your Google drive replace `save_directory` with a Google Drive filepath\n",
    "\n",
    "    i.e. Replace Path.cwd() with \"content/drive/MyDrive/data\" \n",
    "\n",
    "__Note__: Path.cwd() means get current working directory "
   ]
  },
  {
   "cell_type": "code",
   "execution_count": null,
   "metadata": {},
   "outputs": [],
   "source": [
    "save_directory = Path.cwd()"
   ]
  },
  {
   "cell_type": "code",
   "execution_count": null,
   "metadata": {},
   "outputs": [],
   "source": [
    "Path(save_directory).exists() # Check this directory exists"
   ]
  },
  {
   "cell_type": "code",
   "execution_count": null,
   "metadata": {},
   "outputs": [],
   "source": [
    "demand_dirpath = f\"{save_directory}/electricity_demands\"\n",
    "allocations_filepath = f\"{save_directory}/electricity_allocations.parquet\"\n",
    "residential_survey_filepath = f\"{save_directory}/residential_survey.parquet\"\n",
    "sme_survey_filepath = f\"{save_directory}/sme_survey.parquet\""
   ]
  },
  {
   "cell_type": "code",
   "execution_count": null,
   "metadata": {},
   "outputs": [],
   "source": [
    "demand.flow.run(\n",
    "    input_dirpath=cer_smart_metering_projects_dirpath,\n",
    "    output_dirpath=demand_dirpath,\n",
    "    n_workers=1,\n",
    ")"
   ]
  },
  {
   "cell_type": "code",
   "execution_count": null,
   "metadata": {},
   "outputs": [],
   "source": [
    "allocations.flow.run(\n",
    "    input_dirpath=cer_smart_metering_projects_dirpath,\n",
    "    output_filepath=allocations_filepath,\n",
    ")"
   ]
  },
  {
   "cell_type": "code",
   "execution_count": null,
   "metadata": {},
   "outputs": [],
   "source": [
    "survey.flow.run(\n",
    "    input_dirpath=cer_smart_metering_projects_dirpath,\n",
    "    output_filepath=residential_survey_filepath,\n",
    "    building_type=\"residential\",\n",
    ")"
   ]
  },
  {
   "cell_type": "code",
   "execution_count": null,
   "metadata": {},
   "outputs": [],
   "source": [
    "survey.flow.run(\n",
    "    input_dirpath=cer_smart_metering_projects_dirpath,\n",
    "    output_filepath=sme_survey_filepath,\n",
    "    building_type=\"sme\",\n",
    ")"
   ]
  },
  {
   "cell_type": "markdown",
   "metadata": {},
   "source": [
    "# CER Electricity Demand Sandbox\n",
    "\n",
    "... can now query the CER Electricity Demand data (via `dask.dataframe`) and allocations (via `pandas`) in this Notebook sandbox"
   ]
  },
  {
   "cell_type": "code",
   "execution_count": null,
   "metadata": {},
   "outputs": [],
   "source": [
    "import dask.dataframe as dd\n",
    "import pandas as pd"
   ]
  },
  {
   "cell_type": "code",
   "execution_count": null,
   "metadata": {},
   "outputs": [],
   "source": [
    "demand_ddf = dd.read_parquet(demand_dirpath)"
   ]
  },
  {
   "cell_type": "code",
   "execution_count": null,
   "metadata": {},
   "outputs": [],
   "source": [
    "allocations_df = pd.read_parquet(allocations_filepath)"
   ]
  },
  {
   "cell_type": "code",
   "execution_count": null,
   "metadata": {},
   "outputs": [],
   "source": [
    "residential_survey_df = pd.read_parquet(residential_survey_filepath)"
   ]
  },
  {
   "cell_type": "code",
   "execution_count": null,
   "metadata": {},
   "outputs": [],
   "source": [
    "sme_survey_df = pd.read_parquet(sme_survey_filepath)"
   ]
  }
 ],
 "metadata": {
  "kernelspec": {
   "display_name": "Python 3.7.8 64-bit ('ireland-smartmeterdata': conda)",
   "metadata": {
    "interpreter": {
     "hash": "5c733f23f617b70835c668b376ddddb241055c287a1c717718bd6b8b27116a7a"
    }
   },
   "name": "python3"
  },
  "language_info": {
   "codemirror_mode": {
    "name": "ipython",
    "version": 3
   },
   "file_extension": ".py",
   "mimetype": "text/x-python",
   "name": "python",
   "nbconvert_exporter": "python",
   "pygments_lexer": "ipython3",
   "version": "3.7.8-final"
  }
 },
 "nbformat": 4,
 "nbformat_minor": 4
}