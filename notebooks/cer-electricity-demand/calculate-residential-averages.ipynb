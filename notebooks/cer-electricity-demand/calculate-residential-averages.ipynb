{
 "cells": [
  {
   "cell_type": "markdown",
   "metadata": {},
   "source": [
    "# Transform CER Smart Meter Project Electricity demands\n",
    "\n",
    "```\n",
    "From:\n",
    "\n",
    "1392  19503   0.14\n",
    "\n",
    "To:\n",
    "\n",
    "id      datetime                demand\n",
    "1392    2009-07-15 01:30:00     0.14\n",
    "```"
   ]
  },
  {
   "cell_type": "code",
   "execution_count": null,
   "metadata": {},
   "outputs": [],
   "source": [
    "from ireland_smartmeterdata.cer.electricity import demand\n",
    "from ireland_smartmeterdata.cer.electricity import allocations"
   ]
  },
  {
   "cell_type": "code",
   "execution_count": null,
   "metadata": {},
   "outputs": [],
   "source": [
    "cer_smart_metering_projects_dirpath = \"<ENTER PATH TO UNZIPPED CER Smart Metering Project>\""
   ]
  },
  {
   "cell_type": "code",
   "execution_count": null,
   "metadata": {},
   "outputs": [],
   "source": [
    "demand_dirpath = \"<ENTER PATH TO SAVE LOCATION FOR ELEC DEMANDS>\""
   ]
  },
  {
   "cell_type": "code",
   "execution_count": null,
   "metadata": {},
   "outputs": [],
   "source": [
    "allocations_filepath = \"<ENTER PATH TO SAVE LOCATION FOR ELEC BUILDING ID ALLOCATIONS>\""
   ]
  },
  {
   "cell_type": "markdown",
   "metadata": {},
   "source": [
    "Check data directories exist before using these paths to clean the data "
   ]
  },
  {
   "cell_type": "code",
   "execution_count": null,
   "metadata": {},
   "outputs": [],
   "source": [
    "from pathlib import Path"
   ]
  },
  {
   "cell_type": "code",
   "execution_count": null,
   "metadata": {},
   "outputs": [],
   "source": [
    "Path(cer_smart_metering_projects_dirpath).exists()"
   ]
  },
  {
   "cell_type": "code",
   "execution_count": null,
   "metadata": {},
   "outputs": [],
   "source": [
    "Path(demand_dirpath).parent.exists()"
   ]
  },
  {
   "cell_type": "code",
   "execution_count": null,
   "metadata": {},
   "outputs": [],
   "source": [
    "Path(allocations_filepath).parent.exists()"
   ]
  },
  {
   "cell_type": "code",
   "execution_count": null,
   "metadata": {},
   "outputs": [],
   "source": [
    "demand.flow.run(\n",
    "    input_dirpath=cer_smart_metering_projects_dirpath,\n",
    "    output_dirpath=demand_dirpath,\n",
    "    n_workers=1,\n",
    ")"
   ]
  },
  {
   "cell_type": "code",
   "execution_count": null,
   "metadata": {},
   "outputs": [],
   "source": [
    "allocations.flow.run(\n",
    "    input_dirpath=cer_smart_metering_projects_dirpath,\n",
    "    output_filepath=allocations_filepath,\n",
    ")"
   ]
  },
  {
   "cell_type": "markdown",
   "metadata": {},
   "source": [
    "# CER Electricity Demand Sandbox\n",
    "\n",
    "... can now query the CER Electricity Demand data (via `dask.dataframe`) and allocations (via `pandas`) in this Notebook sandbox"
   ]
  },
  {
   "cell_type": "code",
   "execution_count": null,
   "metadata": {},
   "outputs": [],
   "source": [
    "import dask.dataframe as dd\n",
    "import pandas as pd"
   ]
  },
  {
   "cell_type": "code",
   "execution_count": null,
   "metadata": {},
   "outputs": [],
   "source": [
    "demand_ddf = dd.read_parquet(demand_dirpath)"
   ]
  },
  {
   "cell_type": "code",
   "execution_count": null,
   "metadata": {},
   "outputs": [],
   "source": [
    "alloactions_df = pd.read_parquet(allocations_filepath)"
   ]
  }
 ],
 "metadata": {
  "kernelspec": {
   "display_name": "Python 3",
   "language": "python",
   "name": "python3"
  },
  "language_info": {
   "codemirror_mode": {
    "name": "ipython",
    "version": 3
   },
   "file_extension": ".py",
   "mimetype": "text/x-python",
   "name": "python",
   "nbconvert_exporter": "python",
   "pygments_lexer": "ipython3",
   "version": "3.9.0-final"
  }
 },
 "nbformat": 4,
 "nbformat_minor": 4
}