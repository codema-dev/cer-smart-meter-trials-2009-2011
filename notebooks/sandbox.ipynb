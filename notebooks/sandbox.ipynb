{
 "cells": [
  {
   "cell_type": "markdown",
   "metadata": {},
   "source": [
    "# Run `setup.ipynb` first to tidy the `CER Smart Metering Project` into a usable format"
   ]
  },
  {
   "cell_type": "markdown",
   "metadata": {},
   "source": [
    "To run this `Jupyter Notebook`:\n",
    "\n",
    "- Run the cell below to install all dependencies and (if prompted) select `RESTART RUNTIME` to register them\n",
    "\n",
    "- Run all cells by selecting `Runtime > Run All` from the dropdown menu and ...\n",
    "    - Authenticate `Google Drive` by clicking the URL linked below\n",
    "    - Link the **wrangled** `CER Smart Metering Project` dataset stored on your `Google Drive` to this `Jupyter Notebook` by:\n",
    "        - Selecting the `Files` icon on your left-hand toolbar\n",
    "        - Navigating to the **wrangled** `CER Smart Metering Project` folder\n",
    "        - Copying and pasting the filepath into the cell below"
   ]
  },
  {
   "cell_type": "code",
   "execution_count": null,
   "metadata": {},
   "outputs": [],
   "source": [
    "!pip install git+https://github.com/codema-dev/ireland_smartmeterdata"
   ]
  },
  {
   "cell_type": "code",
   "execution_count": null,
   "metadata": {},
   "outputs": [],
   "source": [
    "dirpath = \"Enter Path to Wrangled CER Smart Metering Project HERE\""
   ]
  },
  {
   "cell_type": "code",
   "execution_count": null,
   "metadata": {},
   "outputs": [],
   "source": [
    "electricity_demand_dirpath = f\"{dirpath}/electricity_demands\"\n",
    "electricity_allocations_filepath = f\"{dirpath}/electricity_allocations.parquet\"\n",
    "electricity_residential_survey_filepath = f\"{dirpath}/electricity_residential_survey.parquet\"\n",
    "electricity_sme_survey_filepath = f\"{dirpath}/electricity_sme_survey.parquet\"\n",
    "\n",
    "gas_demand_dirpath = f\"{dirpath}/gas_demands\"\n",
    "gas_allocations_filepath = f\"{dirpath}/gas_allocations.parquet\"\n",
    "gas_survey_filepath = f\"{dirpath}/gas_residential_survey.parquet\""
   ]
  },
  {
   "cell_type": "markdown",
   "metadata": {},
   "source": [
    "# Experiment with the CER data in this `sandbox` environment\n",
    "\n",
    "Can now query the CER data in this notebook using `dask`.  `dask` uses `pandas` under the hood but has the advantage of scaling to large data. \n",
    "\n",
    "If you are unfamiliar with `pandas` see:\n",
    "- [Getting started](https://pandas.pydata.org/docs/getting_started/index.html#getting-started)\n",
    "- [Community tutorials](https://pandas.pydata.org/docs/getting_started/tutorials.html?highlight=community) ... includes YouTube videos and interactive tutorials\n",
    "\n",
    "If you are familiar with `pandas` but new to `dask` see:\n",
    "- [Dask DataFrame](https://docs.dask.org/en/latest/dataframe.html)\n",
    "- [Community tutorials](https://docs.dask.org/en/latest/educational-resources.html?highlight=communitytutorials#educational-resources) ... includes YouTube videos and interactive tutorials\n",
    "under the hood so if you are familiar with `pandas` using `dask` is straightforward "
   ]
  },
  {
   "cell_type": "code",
   "execution_count": null,
   "metadata": {},
   "outputs": [],
   "source": [
    "import dask.dataframe as dd\n",
    "import pandas as pd"
   ]
  },
  {
   "cell_type": "code",
   "execution_count": null,
   "metadata": {},
   "outputs": [],
   "source": [
    "electricity_demand = dd.read_parquet(electricity_demand_dirpath)"
   ]
  },
  {
   "cell_type": "code",
   "execution_count": null,
   "metadata": {},
   "outputs": [],
   "source": [
    "electricity_allocations = pd.read_parquet(electricity_allocations_filepath)"
   ]
  },
  {
   "cell_type": "code",
   "execution_count": null,
   "metadata": {},
   "outputs": [],
   "source": [
    "electricity_residential_survey = pd.read_parquet(electricity_residential_survey_filepath)"
   ]
  },
  {
   "cell_type": "code",
   "execution_count": null,
   "metadata": {},
   "outputs": [],
   "source": [
    "electricity_sme_survey_df = pd.read_parquet(electricity_sme_survey_filepath)"
   ]
  },
  {
   "cell_type": "code",
   "execution_count": null,
   "metadata": {},
   "outputs": [],
   "source": [
    "gas_demand = dd.read_parquet(gas_demand_dirpath)"
   ]
  },
  {
   "cell_type": "code",
   "execution_count": null,
   "metadata": {},
   "outputs": [],
   "source": [
    "gas_allocations = pd.read_parquet(gas_allocations_filepath)"
   ]
  },
  {
   "cell_type": "code",
   "execution_count": null,
   "metadata": {},
   "outputs": [],
   "source": [
    "gas_residential_survey = pd.read_parquet(gas_residential_survey_filepath)"
   ]
  }
 ],
 "metadata": {
  "kernelspec": {
   "display_name": "Python 3",
   "language": "python",
   "name": "python3"
  },
  "language_info": {
   "codemirror_mode": {
    "name": "ipython",
    "version": 3
   },
   "file_extension": ".py",
   "mimetype": "text/x-python",
   "name": "python",
   "nbconvert_exporter": "python",
   "pygments_lexer": "ipython3",
   "version": "3.9.1"
  }
 },
 "nbformat": 4,
 "nbformat_minor": 4
}
