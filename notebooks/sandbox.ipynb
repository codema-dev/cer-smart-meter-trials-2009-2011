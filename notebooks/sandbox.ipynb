{
 "cells": [
  {
   "cell_type": "code",
   "execution_count": 1,
   "metadata": {},
   "outputs": [],
   "source": [
    "from pathlib import Path"
   ]
  },
  {
   "source": [
    "# Link this `notebook` to the unzipped `CER Smart Metering Project` folder"
   ],
   "cell_type": "markdown",
   "metadata": {}
  },
  {
   "source": [
    "## (Optional) If running this `notebook` on Google Colaboratory\n",
    "\n",
    "Checkout Google's tutorial on [Loading data: Drive, Sheets, and Google Cloud Storage](https://colab.research.google.com/notebooks/io.ipynb)"
   ],
   "cell_type": "markdown",
   "metadata": {}
  },
  {
   "cell_type": "code",
   "execution_count": null,
   "metadata": {},
   "outputs": [],
   "source": [
    "from google.colab import drive\n",
    "from google.colab import files"
   ]
  },
  {
   "source": [
    "If data is saved on `Google Drive` mount it and copy the path the folder into "
   ],
   "cell_type": "markdown",
   "metadata": {}
  },
  {
   "cell_type": "code",
   "execution_count": null,
   "metadata": {},
   "outputs": [],
   "source": [
    "drive.mount('/content/drive')"
   ]
  },
  {
   "source": [
    "If saved locally upload it"
   ],
   "cell_type": "markdown",
   "metadata": {}
  },
  {
   "cell_type": "code",
   "execution_count": null,
   "metadata": {},
   "outputs": [],
   "source": [
    "files.upload()"
   ]
  },
  {
   "source": [
    "## Copy & Paste file path to unzipped `CER Smart Metering Project` folder into the string below"
   ],
   "cell_type": "markdown",
   "metadata": {}
  },
  {
   "cell_type": "code",
   "execution_count": null,
   "metadata": {},
   "outputs": [],
   "source": [
    "dirpath = Path(\"PATH / TO / CER Smart Metering Project\")"
   ]
  },
  {
   "cell_type": "code",
   "execution_count": null,
   "metadata": {},
   "outputs": [],
   "source": [
    "assert dirpath.exists()\n",
    "# if False then this notebook can't connect to your data folder - likely due to (1) an incorrect spelling or (2) (Google Colab) an incorrect mount"
   ]
  },
  {
   "cell_type": "markdown",
   "metadata": {},
   "source": [
    "# Wrangle the CER Gas & Electricity data into a usable format\n",
    "\n",
    "---\n",
    "\n",
    "Demands\n",
    "\n",
    "```\n",
    "From:\n",
    "\n",
    "1   19503   0.14\n",
    "\n",
    "To:\n",
    "\n",
    "id  datetime                demand\n",
    "1   2009-07-15 01:30:00     0.14\n",
    "```\n",
    "---\n",
    "\n",
    "Allocations\n",
    "```\n",
    "From:\n",
    "\n",
    "ID  Code        ...\n",
    "1   1           ...\n",
    "\n",
    "To:\n",
    "\n",
    "ID  Code        ...\n",
    "1   Residential ...\n",
    "```\n",
    "---\n",
    "\n",
    "Surveys\n",
    "```\n",
    "From:\n",
    "\n",
    "ID  ...     Which best describes your home?\n",
    "1   ...     2\n",
    "\n",
    "To:\n",
    "\n",
    "ID  ...     Which best describes your home?\n",
    "1   ...     Semi-detached house\n",
    "```\n",
    "\n"
   ]
  },
  {
   "cell_type": "code",
   "execution_count": null,
   "metadata": {},
   "outputs": [],
   "source": [
    "!pip install git+https://github.com/codema-dev/cer-smart-meter-trials-2009-2011"
   ]
  },
  {
   "source": [
    "from cer.clean import clean_cer_data\n",
    "\n",
    "output_dirpath = Path(\"(Clean) CER Smart Metering Project\")\n",
    "clean_cer_data(dirpath, output_dirpath)"
   ],
   "cell_type": "code",
   "metadata": {},
   "execution_count": 4,
   "outputs": [
    {
     "output_type": "stream",
     "name": "stdout",
     "text": [
      "Cleaning Electricity Data...\n",
      "\n",
      "Cleaning Electricity Demands to (Clean) CER Smart Metering Project/electricity_demands\n",
      "Unzipping [PosixPath('../CER Smart Metering Project/CER Electricity Revised March 2012/File4.txt.zip'), PosixPath('../CER Smart Metering Project/CER Electricity Revised March 2012/File2.txt.zip'), PosixPath('../CER Smart Metering Project/CER Electricity Revised March 2012/File1.txt.zip'), PosixPath('../CER Smart Metering Project/CER Electricity Revised March 2012/File3.txt.zip'), PosixPath('../CER Smart Metering Project/CER Electricity Revised March 2012/File5.txt.zip'), PosixPath('../CER Smart Metering Project/CER Electricity Revised March 2012/File6.txt.zip')]\n",
      "[########################################] | 100% Completed |  2min 56.0s\n",
      "Cleaning Electricity Demands...\n",
      "[########################################] | 100% Completed |  2min 22.4s\n",
      "Cleaning Electricity Allocations to (Clean) CER Smart Metering Project/electricity_demands\n",
      "Cleaning Electricity Residential Survey to (Clean) CER Smart Metering Project/electricity_residential_survey.csv\n",
      "Cleaning Electricity SME Survey to (Clean) CER Smart Metering Project/electricity_sme_survey.csv\n",
      "\n",
      "Cleaning Gas Data...\n",
      "\n",
      "Cleaning Gas Demands to (Clean) CER Smart Metering Project/gas_demands\n",
      "Cleaning Gas Demands...\n",
      "[########################################] | 100% Completed | 41.6s\n",
      "Cleaning Gas Allocations to (Clean) CER Smart Metering Project/gas_demands\n",
      "Cleaning Gas Residential Survey to (Clean) CER Smart Metering Project/gas_residential_survey.csv\n"
     ]
    }
   ]
  },
  {
   "cell_type": "markdown",
   "metadata": {},
   "source": [
    "# Experiment with the CER data in this `sandbox` environment\n",
    "\n",
    "Can now query the CER data in this notebook using `dask`.  `dask` uses `pandas` under the hood but has the advantage of scaling to large data. \n",
    "\n",
    "If you are unfamiliar with `pandas` see:\n",
    "- [Getting started](https://pandas.pydata.org/docs/getting_started/index.html#getting-started)\n",
    "- [Community tutorials](https://pandas.pydata.org/docs/getting_started/tutorials.html?highlight=community) ... includes YouTube videos and interactive tutorials\n",
    "\n",
    "If you are familiar with `pandas` but new to `dask` see:\n",
    "- [Dask DataFrame](https://docs.dask.org/en/latest/dataframe.html)\n",
    "- [Community tutorials](https://docs.dask.org/en/latest/educational-resources.html?highlight=communitytutorials#educational-resources) ... includes YouTube videos and interactive tutorials\n",
    "under the hood so if you are familiar with `pandas` using `dask` is straightforward "
   ]
  },
  {
   "source": [
    "Copy & paste file paths to replace the strings below with the newly created clean smart meter data file paths\n",
    "\n",
    "- `dd.read_parquet` for `electricity_demands` and `gas_demands` folders of `parquet` files\n",
    "- `pd.read_csv` for the `csv` files"
   ],
   "cell_type": "markdown",
   "metadata": {}
  },
  {
   "cell_type": "code",
   "execution_count": null,
   "metadata": {},
   "outputs": [],
   "source": [
    "import dask.dataframe as dd\n",
    "import pandas as pd"
   ]
  },
  {
   "cell_type": "code",
   "execution_count": null,
   "metadata": {},
   "outputs": [],
   "source": [
    "electricity_demand_dirpath = Path(\"Path / To / electricity_demands\") \n",
    "electricity_demand = dd.read_parquet(electricity_demand_dirpath)"
   ]
  },
  {
   "cell_type": "code",
   "execution_count": null,
   "metadata": {},
   "outputs": [],
   "source": [
    "electricity_allocations_dirpath = Path(\"Path / To / electricity_allocations\") \n",
    "electricity_demand = pd.read_csv(electricity_allocations_dirpath)"
   ]
  }
 ],
 "metadata": {
  "kernelspec": {
   "name": "python392jvsc74a57bd0ec341923d4e7c204c152d95cee76b8c2ee0c1e20b39dcebad7212074767c065d",
   "display_name": "Python 3.9.2 64-bit ('cer': conda)"
  },
  "language_info": {
   "codemirror_mode": {
    "name": "ipython",
    "version": 3
   },
   "file_extension": ".py",
   "mimetype": "text/x-python",
   "name": "python",
   "nbconvert_exporter": "python",
   "pygments_lexer": "ipython3",
   "version": "3.9.2"
  }
 },
 "nbformat": 4,
 "nbformat_minor": 4
}