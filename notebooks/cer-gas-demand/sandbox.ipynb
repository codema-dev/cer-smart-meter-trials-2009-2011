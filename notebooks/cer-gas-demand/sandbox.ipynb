{
 "cells": [
  {
   "cell_type": "code",
   "execution_count": null,
   "metadata": {},
   "outputs": [],
   "source": [
    "!pip install git+https://github.com/codema-dev/ireland_smartmeterdata"
   ]
  },
  {
   "source": [
    "# Transform CER Smart Meter Project Gas data\n",
    "---\n",
    "Demands\n",
    "\n",
    "```\n",
    "From:\n",
    "\n",
    "ID,DT,Usage\n",
    "1,33501,0\n",
    "\n",
    "To:\n",
    "\n",
    "id  datetime                demand\n",
    "1   2009-12-02 00:30:00     0\n",
    "```\n",
    "---\n",
    "\n",
    "Allocations\n",
    "```\n",
    "From:\n",
    "\n",
    "ID  Code        ...\n",
    "1   1           ...\n",
    "\n",
    "To:\n",
    "\n",
    "ID  Code        ...\n",
    "1   Residential ...\n",
    "```\n",
    "---\n",
    "\n",
    "Surveys\n",
    "```\n",
    "From:\n",
    "\n",
    "ID  ...     Which best describes your home?\n",
    "1   ...     2\n",
    "\n",
    "To:\n",
    "\n",
    "ID  ...     Which best describes your home?\n",
    "1   ...     Semi-detached house\n",
    "```\n",
    "\n"
   ],
   "cell_type": "markdown",
   "metadata": {}
  },
  {
   "cell_type": "code",
   "execution_count": null,
   "metadata": {},
   "outputs": [],
   "source": [
    "from pathlib import Path\n",
    "\n",
    "from ireland_smartmeterdata.cer.gas import demand\n",
    "from ireland_smartmeterdata.cer.gas import allocations\n",
    "from ireland_smartmeterdata.cer.gas import survey"
   ]
  },
  {
   "cell_type": "code",
   "execution_count": null,
   "metadata": {},
   "outputs": [],
   "source": [
    "cer_smart_metering_projects_dirpath = \"<ENTER PATH TO UNZIPPED CER Smart Metering Project>\""
   ]
  },
  {
   "cell_type": "code",
   "execution_count": null,
   "metadata": {},
   "outputs": [],
   "source": [
    "Path(cer_smart_metering_projects_dirpath).exists() # Check this directory exists"
   ]
  },
  {
   "source": [
    "To save any of the following files to your Google drive replace `save_directory` with a Google Drive filepath\n",
    "\n",
    "    i.e. Replace Path.cwd() with \"content/drive/MyDrive/data\" \n",
    "\n",
    "__Note__: Path.cwd() means get current working directory "
   ],
   "cell_type": "markdown",
   "metadata": {}
  },
  {
   "cell_type": "code",
   "execution_count": null,
   "metadata": {},
   "outputs": [],
   "source": [
    "save_directory = Path.cwd()"
   ]
  },
  {
   "cell_type": "code",
   "execution_count": null,
   "metadata": {},
   "outputs": [],
   "source": [
    "Path(save_directory).exists() # Check this directory exists"
   ]
  },
  {
   "cell_type": "code",
   "execution_count": null,
   "metadata": {},
   "outputs": [],
   "source": [
    "demand_dirpath = f\"{save_directory}/gas_demands\"\n",
    "allocations_filepath = f\"{save_directory}/gas_allocations.parquet\"\n",
    "survey_filepath = f\"{save_directory}/gas_residential_survey.parquet\"\n",
    "sme_survey_filepath = f\"{save_directory}/gas_sme_survey.parquet\""
   ]
  },
  {
   "cell_type": "code",
   "execution_count": null,
   "metadata": {},
   "outputs": [],
   "source": [
    "demand.flow.run(\n",
    "    input_dirpath=cer_smart_metering_projects_dirpath,\n",
    "    output_dirpath=demand_dirpath,\n",
    "    n_workers=1,\n",
    ")"
   ]
  },
  {
   "cell_type": "code",
   "execution_count": null,
   "metadata": {},
   "outputs": [],
   "source": [
    "allocations.flow.run(\n",
    "    input_dirpath=cer_smart_metering_projects_dirpath,\n",
    "    output_filepath=allocations_filepath,\n",
    ")"
   ]
  },
  {
   "cell_type": "code",
   "execution_count": null,
   "metadata": {},
   "outputs": [],
   "source": [
    "survey.flow.run(\n",
    "    input_dirpath=cer_smart_metering_projects_dirpath,\n",
    "    output_filepath=survey_filepath,\n",
    ")"
   ]
  },
  {
   "cell_type": "markdown",
   "metadata": {},
   "source": [
    "# CER Gas Demand Sandbox\n",
    "\n",
    "... can now query the CER Gas Demand data (via `dask.dataframe`) and allocations (via `pandas`) in this Notebook sandbox"
   ]
  },
  {
   "cell_type": "code",
   "execution_count": null,
   "metadata": {},
   "outputs": [],
   "source": [
    "import dask.dataframe as dd\n",
    "import pandas as pd"
   ]
  },
  {
   "cell_type": "code",
   "execution_count": null,
   "metadata": {},
   "outputs": [],
   "source": [
    "demand_ddf = dd.read_parquet(demand_dirpath)"
   ]
  },
  {
   "cell_type": "code",
   "execution_count": null,
   "metadata": {},
   "outputs": [],
   "source": [
    "allocations_df = pd.read_parquet(allocations_filepath)"
   ]
  },
  {
   "cell_type": "code",
   "execution_count": null,
   "metadata": {},
   "outputs": [],
   "source": [
    "survey_df = pd.read_parquet(survey_filepath)"
   ]
  }
 ],
 "metadata": {
  "kernelspec": {
   "display_name": "Python 3",
   "language": "python",
   "name": "python3"
  },
  "language_info": {
   "codemirror_mode": {
    "name": "ipython",
    "version": 3
   },
   "file_extension": ".py",
   "mimetype": "text/x-python",
   "name": "python",
   "nbconvert_exporter": "python",
   "pygments_lexer": "ipython3",
   "version": "3.7.8"
  }
 },
 "nbformat": 4,
 "nbformat_minor": 2
}