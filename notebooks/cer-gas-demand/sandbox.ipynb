{
 "cells": [
  {
   "cell_type": "markdown",
   "metadata": {},
   "source": [
    "# Transform Gas Demands.\n",
    "\n",
    "```\n",
    "From:\n",
    "\n",
    "ID,DT,Usage\n",
    "1565,33501,0\n",
    "\n",
    "To:\n",
    "\n",
    "id      datetime                demand\n",
    "1565    2009-12-02 00:30:00     0\n",
    "```"
   ]
  },
  {
   "cell_type": "code",
   "execution_count": null,
   "metadata": {},
   "outputs": [],
   "source": [
    "from ireland_smartmeterdata.cer.gas import demand"
   ]
  },
  {
   "cell_type": "code",
   "execution_count": null,
   "metadata": {},
   "outputs": [],
   "source": [
    "cer_smart_metering_projects_dirpath = \"<ENTER PATH TO UNZIPPED CER Smart Metering Project>\"\n",
    "demand_dirpath = \"<ENTER PATH TO SAVE LOCATION FOR ELEC DEMANDS>\"\n",
    "allocations_filepath = \"<ENTER PATH TO SAVE LOCATION FOR ELEC BUILDING ID ALLOCATIONS>\""
   ]
  },
  {
   "cell_type": "markdown",
   "metadata": {},
   "source": [
    "Check data directories exist before using these paths to clean the data "
   ]
  },
  {
   "cell_type": "code",
   "execution_count": null,
   "metadata": {},
   "outputs": [],
   "source": [
    "from pathlib import Path"
   ]
  },
  {
   "cell_type": "code",
   "execution_count": null,
   "metadata": {},
   "outputs": [],
   "source": [
    "Path(cer_smart_metering_projects_dirpath).exists()"
   ]
  },
  {
   "cell_type": "code",
   "execution_count": null,
   "metadata": {},
   "outputs": [],
   "source": [
    "Path(demand_dirpath).parent.exists()"
   ]
  },
  {
   "cell_type": "code",
   "execution_count": null,
   "metadata": {},
   "outputs": [],
   "source": [
    "Path(allocations_filepath).parent.exists()"
   ]
  },
  {
   "cell_type": "code",
   "execution_count": null,
   "metadata": {},
   "outputs": [],
   "source": [
    "demand.flow.run(\n",
    "    input_dirpath=cer_smart_metering_projects_dirpath,\n",
    "    output_dirpath=demand_dirpath,\n",
    "    n_workers=1,\n",
    ")"
   ]
  },
  {
   "cell_type": "markdown",
   "metadata": {},
   "source": [
    "# CER Gas Demand Sandbox\n",
    "\n",
    "... can now query the CER Gas Demand data (via `dask.dataframe`) and allocations (via `pandas`) in this Notebook sandbox"
   ]
  },
  {
   "cell_type": "code",
   "execution_count": null,
   "metadata": {},
   "outputs": [],
   "source": [
    "import dask.dataframe as dd\n",
    "import pandas as pd"
   ]
  },
  {
   "cell_type": "code",
   "execution_count": null,
   "metadata": {},
   "outputs": [],
   "source": [
    "demand_ddf = dd.read_parquet(demand_dirpath)"
   ]
  },
  {
   "cell_type": "code",
   "execution_count": null,
   "metadata": {},
   "outputs": [],
   "source": [
    "demand_ddf.head()"
   ]
  },
  {
   "cell_type": "code",
   "execution_count": null,
   "metadata": {},
   "outputs": [],
   "source": [
    "allocations_df = pd.read_parquet(allocations_filepath)"
   ]
  }
 ],
 "metadata": {
  "kernelspec": {
   "display_name": "Python 3",
   "language": "python",
   "name": "python3"
  },
  "language_info": {
   "codemirror_mode": {
    "name": "ipython",
    "version": 3
   },
   "file_extension": ".py",
   "mimetype": "text/x-python",
   "name": "python",
   "nbconvert_exporter": "python",
   "pygments_lexer": "ipython3",
   "version": "3.7.8"
  }
 },
 "nbformat": 4,
 "nbformat_minor": 2
}