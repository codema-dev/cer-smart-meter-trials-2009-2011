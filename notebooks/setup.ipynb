{
 "cells": [
  {
   "cell_type": "markdown",
   "metadata": {},
   "source": [
    "This `Jupyter Notebook` wrangles the [`CER Smart Meter Trials 2009-2011`](https://www.ucd.ie/issda/data/commissionforenergyregulationcer/) dataset into a tidy format via `dask`"
   ]
  },
  {
   "cell_type": "markdown",
   "metadata": {},
   "source": [
    "To run it:\n",
    "\n",
    "- Run the cell below to install all dependencies and (if prompted) select `RESTART RUNTIME` to register them\n",
    "\n",
    "- Run all cells by selecting `Runtime > Run All` from the dropdown menu and ...\n",
    "    - Authenticate `Google Drive` by clicking the URL linked below\n",
    "    - Link the `CER Smart Metering Project` dataset stored on your `Google Drive` to this `Jupyter Notebook` by:\n",
    "        - Selecting the `Files` icon on your left-hand toolbar\n",
    "        - Navigating to the `CER Smart Metering Project` folder\n",
    "        - Copying and pasting the filepath into the cell below\n",
    "\n",
    "- Once all cells have finished running you can query the tidy `CER Smart Metering Project` dataset in ...\n",
    "    - [sandbox](https://colab.research.google.com/github/codema-dev/cer-smart-meter-trials-2009-2011/blob/main/notebooks/sandbox.ipynb) ... a minimal sandbox environment for exploring the dataset (includes tutorials on dask and pandas)"
   ]
  },
  {
   "cell_type": "code",
   "execution_count": null,
   "metadata": {},
   "outputs": [],
   "source": [
    "!pip install git+https://github.com/codema-dev/cer-smart-meter-trials-2009-2011"
   ]
  },
  {
   "cell_type": "code",
   "execution_count": null,
   "metadata": {},
   "outputs": [],
   "source": [
    "from google.colab import drive\n",
    "drive.mount('/content/drive')"
   ]
  },
  {
   "cell_type": "code",
   "execution_count": null,
   "metadata": {},
   "outputs": [],
   "source": [
    "cer_smart_metering_projects_dirpath = \"Enter Path to Unzipped CER Smart Metering Project HERE\""
   ]
  },
  {
   "cell_type": "code",
   "execution_count": null,
   "metadata": {},
   "outputs": [],
   "source": [
    "save_directory = cer_smart_metering_projects_dirpath + \" - WRANGLED\""
   ]
  },
  {
   "cell_type": "code",
   "execution_count": null,
   "metadata": {},
   "outputs": [],
   "source": [
    "!mkdir {save_directory}"
   ]
  },
  {
   "cell_type": "markdown",
   "metadata": {},
   "source": [
    "# Transform CER Smart Meter Project Electricity data\n",
    "---\n",
    "\n",
    "Demands\n",
    "\n",
    "```\n",
    "From:\n",
    "\n",
    "1   19503   0.14\n",
    "\n",
    "To:\n",
    "\n",
    "id  datetime                demand\n",
    "1   2009-07-15 01:30:00     0.14\n",
    "```\n",
    "---\n",
    "\n",
    "Allocations\n",
    "```\n",
    "From:\n",
    "\n",
    "ID  Code        ...\n",
    "1   1           ...\n",
    "\n",
    "To:\n",
    "\n",
    "ID  Code        ...\n",
    "1   Residential ...\n",
    "```\n",
    "---\n",
    "\n",
    "Surveys\n",
    "```\n",
    "From:\n",
    "\n",
    "ID  ...     Which best describes your home?\n",
    "1   ...     2\n",
    "\n",
    "To:\n",
    "\n",
    "ID  ...     Which best describes your home?\n",
    "1   ...     Semi-detached house\n",
    "```\n",
    "\n"
   ]
  },
  {
   "cell_type": "code",
   "execution_count": null,
   "metadata": {},
   "outputs": [],
   "source": [
    "from pathlib import Path\n",
    "\n",
    "from cer.electricity import demand\n",
    "from cer.electricity import allocations\n",
    "from cer.electricity import survey"
   ]
  },
  {
   "cell_type": "code",
   "execution_count": null,
   "metadata": {},
   "outputs": [],
   "source": [
    "demand_dirpath = f\"{save_directory}/electricity_demands\"\n",
    "allocations_filepath = f\"{save_directory}/electricity_allocations.parquet\"\n",
    "residential_survey_filepath = f\"{save_directory}/electricity_residential_survey.parquet\"\n",
    "sme_survey_filepath = f\"{save_directory}/electricity_sme_survey.parquet\""
   ]
  },
  {
   "cell_type": "code",
   "execution_count": null,
   "metadata": {},
   "outputs": [],
   "source": [
    "demand.flow.run(\n",
    "    input_dirpath=cer_smart_metering_projects_dirpath,\n",
    "    output_dirpath=demand_dirpath,\n",
    ")"
   ]
  },
  {
   "cell_type": "code",
   "execution_count": null,
   "metadata": {},
   "outputs": [],
   "source": [
    "allocations.flow.run(\n",
    "    input_dirpath=cer_smart_metering_projects_dirpath,\n",
    "    output_filepath=allocations_filepath,\n",
    ")"
   ]
  },
  {
   "cell_type": "code",
   "execution_count": null,
   "metadata": {},
   "outputs": [],
   "source": [
    "survey.flow.run(\n",
    "    input_dirpath=cer_smart_metering_projects_dirpath,\n",
    "    output_filepath=residential_survey_filepath,\n",
    "    building_type=\"residential\",\n",
    ")"
   ]
  },
  {
   "cell_type": "code",
   "execution_count": null,
   "metadata": {},
   "outputs": [],
   "source": [
    "survey.flow.run(\n",
    "    input_dirpath=cer_smart_metering_projects_dirpath,\n",
    "    output_filepath=sme_survey_filepath,\n",
    "    building_type=\"sme\",\n",
    ")"
   ]
  },
  {
   "cell_type": "markdown",
   "metadata": {},
   "source": [
    "# Transform CER Smart Meter Project Gas data\n",
    "---\n",
    "Demands\n",
    "\n",
    "```\n",
    "From:\n",
    "\n",
    "ID,DT,Usage\n",
    "1,33501,0\n",
    "\n",
    "To:\n",
    "\n",
    "id  datetime                demand\n",
    "1   2009-12-02 00:30:00     0\n",
    "```\n",
    "---\n",
    "\n",
    "Allocations\n",
    "```\n",
    "From:\n",
    "\n",
    "ID  Code        ...\n",
    "1   1           ...\n",
    "\n",
    "To:\n",
    "\n",
    "ID  Code        ...\n",
    "1   Residential ...\n",
    "```\n",
    "---\n",
    "\n",
    "Surveys\n",
    "```\n",
    "From:\n",
    "\n",
    "ID  ...     Which best describes your home?\n",
    "1   ...     2\n",
    "\n",
    "To:\n",
    "\n",
    "ID  ...     Which best describes your home?\n",
    "1   ...     Semi-detached house\n",
    "```\n",
    "\n"
   ]
  },
  {
   "cell_type": "code",
   "execution_count": null,
   "metadata": {},
   "outputs": [],
   "source": [
    "from pathlib import Path\n",
    "\n",
    "from cer.gas import demand\n",
    "from cer.gas import allocations\n",
    "from cer.gas import survey"
   ]
  },
  {
   "cell_type": "code",
   "execution_count": null,
   "metadata": {},
   "outputs": [],
   "source": [
    "demand_dirpath = f\"{save_directory}/gas_demands\"\n",
    "allocations_filepath = f\"{save_directory}/gas_allocations.parquet\"\n",
    "survey_filepath = f\"{save_directory}/gas_residential_survey.parquet\""
   ]
  },
  {
   "cell_type": "code",
   "execution_count": null,
   "metadata": {},
   "outputs": [],
   "source": [
    "demand.flow.run(\n",
    "    input_dirpath=cer_smart_metering_projects_dirpath,\n",
    "    output_dirpath=demand_dirpath,\n",
    ")"
   ]
  },
  {
   "cell_type": "code",
   "execution_count": null,
   "metadata": {},
   "outputs": [],
   "source": [
    "allocations.flow.run(\n",
    "    input_dirpath=cer_smart_metering_projects_dirpath,\n",
    "    output_filepath=allocations_filepath,\n",
    ")"
   ]
  },
  {
   "cell_type": "code",
   "execution_count": null,
   "metadata": {},
   "outputs": [],
   "source": [
    "survey.flow.run(\n",
    "    input_dirpath=cer_smart_metering_projects_dirpath,\n",
    "    output_filepath=survey_filepath,\n",
    ")"
   ]
  },
  {
   "source": [
    "# Now try ...\n",
    "\n",
    "- [sandbox](https://colab.research.google.com/github/codema-dev/cer-smart-meter-trials-2009-2011/blob/main/notebooks/sandbox.ipynb) ... a minimal sandbox environment for exploring the dataset (includes tutorials on dask and pandas)"
   ],
   "cell_type": "markdown",
   "metadata": {}
  }
 ],
 "metadata": {
  "kernelspec": {
   "display_name": "Python 3",
   "language": "python",
   "name": "python3"
  },
  "language_info": {
   "codemirror_mode": {
    "name": "ipython",
    "version": 3
   },
   "file_extension": ".py",
   "mimetype": "text/x-python",
   "name": "python",
   "nbconvert_exporter": "python",
   "pygments_lexer": "ipython3",
   "version": "3.9.1"
  }
 },
 "nbformat": 4,
 "nbformat_minor": 4
}